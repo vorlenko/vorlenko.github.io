{
 "cells": [
  {
   "cell_type": "raw",
   "metadata": {},
   "source": [
    "---\n",
    "title: \"Пример работы с seamless-m4t-large от Мета\"\n",
    "author: \"Vladimir Orlenko\"\n",
    "date: \"2023-08-22\"\n",
    "categories: [code,text,audio]\n",
    "image: \"image/seamless-m4t-large.jpg\"\n",
    "format:\n",
    "  html:\n",
    "    code-fold: true\n",
    "jupyter: python3\n",
    "---"
   ]
  },
  {
   "cell_type": "markdown",
   "metadata": {
    "id": "ifG6jFmNSGZT"
   },
   "source": [
    "Meta выпустила крутой нейропереводчик с поддержкой 100 языков. Он спокойно может перегнать текст в речь и наоборот. Из речи в речь тоже умеет.\n",
    "\n",
    "Интонации переданы неплохо. Это не стандартный робот-тараторщик, а вполне приятный искусственный интеллект с нормальным голосом."
   ]
  },
  {
   "cell_type": "markdown",
   "metadata": {
    "id": "J43i2FgnSXez"
   },
   "source": [
    "https://github.com/facebookresearch/seamless_communication/blob/main/README.md"
   ]
  },
  {
   "cell_type": "markdown",
   "metadata": {
    "id": "URKLS6_U-RV0"
   },
   "source": [
    "[Source](https://huggingface.co/facebook/seamless-m4t-large)\n",
    "\n",
    "\n",
    "\n",
    "*   Speech-to-speech translation (S2ST)\n",
    "*   Speech-to-text translation (S2TT)\n",
    "*   Text-to-speech translation (T2ST)\n",
    "*   Text-to-text translation (T2TT)\n",
    "*   Automatic speech recognition (ASR)"
   ]
  },
  {
   "cell_type": "markdown",
   "metadata": {
    "id": "LF1qwi6X_QzG"
   },
   "source": [
    "Модель `SeamlessM4T` в настоящее время доступна через пакет `seamless_communication`"
   ]
  },
  {
   "cell_type": "markdown",
   "metadata": {
    "id": "xkfzWnNwSzJI"
   },
   "source": [
    "Приступим к установке"
   ]
  },
  {
   "cell_type": "code",
   "execution_count": null,
   "metadata": {
    "colab": {
     "base_uri": "https://localhost:8080/"
    },
    "executionInfo": {
     "elapsed": 13727,
     "status": "ok",
     "timestamp": 1692720888519,
     "user": {
      "displayName": "Vladimir Orlenko",
      "userId": "14647639487768811794"
     },
     "user_tz": -300
    },
    "id": "VmXcMlIM_F-K",
    "outputId": "c640d107-d81f-410f-b2a1-bc892cf97599"
   },
   "outputs": [
    {
     "name": "stdout",
     "output_type": "stream",
     "text": [
      "Collecting fairseq2==0.1\n",
      "  Downloading fairseq2-0.1.0-py3-none-any.whl (162 kB)\n",
      "\u001b[2K     \u001b[90m━━━━━━━━━━━━━━━━━━━━━━━━━━━━━━━━━━━━━━━\u001b[0m \u001b[32m162.3/162.3 kB\u001b[0m \u001b[31m3.4 MB/s\u001b[0m eta \u001b[36m0:00:00\u001b[0m\n",
      "\u001b[?25hCollecting fairseq2n==0.1.0 (from fairseq2==0.1)\n",
      "  Downloading fairseq2n-0.1.0-cp310-cp310-manylinux_2_17_x86_64.whl (2.3 MB)\n",
      "\u001b[2K     \u001b[90m━━━━━━━━━━━━━━━━━━━━━━━━━━━━━━━━━━━━━━━━\u001b[0m \u001b[32m2.3/2.3 MB\u001b[0m \u001b[31m11.5 MB/s\u001b[0m eta \u001b[36m0:00:00\u001b[0m\n",
      "\u001b[?25hCollecting jiwer~=3.0 (from fairseq2==0.1)\n",
      "  Downloading jiwer-3.0.2-py3-none-any.whl (21 kB)\n",
      "Requirement already satisfied: numpy~=1.23 in /usr/local/lib/python3.10/dist-packages (from fairseq2==0.1) (1.23.5)\n",
      "Collecting overrides~=7.3 (from fairseq2==0.1)\n",
      "  Downloading overrides-7.4.0-py3-none-any.whl (17 kB)\n",
      "Requirement already satisfied: packaging~=23.1 in /usr/local/lib/python3.10/dist-packages (from fairseq2==0.1) (23.1)\n",
      "Requirement already satisfied: pyyaml~=6.0 in /usr/local/lib/python3.10/dist-packages (from fairseq2==0.1) (6.0.1)\n",
      "Collecting sacrebleu~=2.3 (from fairseq2==0.1)\n",
      "  Downloading sacrebleu-2.3.1-py3-none-any.whl (118 kB)\n",
      "\u001b[2K     \u001b[90m━━━━━━━━━━━━━━━━━━━━━━━━━━━━━━━━━━━━━━\u001b[0m \u001b[32m118.9/118.9 kB\u001b[0m \u001b[31m12.6 MB/s\u001b[0m eta \u001b[36m0:00:00\u001b[0m\n",
      "\u001b[?25hRequirement already satisfied: torch>=1.12.1 in /usr/local/lib/python3.10/dist-packages (from fairseq2==0.1) (2.0.1+cu118)\n",
      "Collecting torcheval~=0.0.6 (from fairseq2==0.1)\n",
      "  Downloading torcheval-0.0.6-py3-none-any.whl (158 kB)\n",
      "\u001b[2K     \u001b[90m━━━━━━━━━━━━━━━━━━━━━━━━━━━━━━━━━━━━━━\u001b[0m \u001b[32m158.4/158.4 kB\u001b[0m \u001b[31m15.4 MB/s\u001b[0m eta \u001b[36m0:00:00\u001b[0m\n",
      "\u001b[?25hCollecting tbb==2021.8 (from fairseq2n==0.1.0->fairseq2==0.1)\n",
      "  Downloading tbb-2021.8.0-py2.py3-none-manylinux1_x86_64.whl (4.0 MB)\n",
      "\u001b[2K     \u001b[90m━━━━━━━━━━━━━━━━━━━━━━━━━━━━━━━━━━━━━━━━\u001b[0m \u001b[32m4.0/4.0 MB\u001b[0m \u001b[31m21.8 MB/s\u001b[0m eta \u001b[36m0:00:00\u001b[0m\n",
      "\u001b[?25hRequirement already satisfied: filelock in /usr/local/lib/python3.10/dist-packages (from torch>=1.12.1->fairseq2==0.1) (3.12.2)\n",
      "Requirement already satisfied: typing-extensions in /usr/local/lib/python3.10/dist-packages (from torch>=1.12.1->fairseq2==0.1) (4.7.1)\n",
      "Requirement already satisfied: sympy in /usr/local/lib/python3.10/dist-packages (from torch>=1.12.1->fairseq2==0.1) (1.12)\n",
      "Requirement already satisfied: networkx in /usr/local/lib/python3.10/dist-packages (from torch>=1.12.1->fairseq2==0.1) (3.1)\n",
      "Requirement already satisfied: jinja2 in /usr/local/lib/python3.10/dist-packages (from torch>=1.12.1->fairseq2==0.1) (3.1.2)\n",
      "Requirement already satisfied: triton==2.0.0 in /usr/local/lib/python3.10/dist-packages (from torch>=1.12.1->fairseq2==0.1) (2.0.0)\n",
      "Requirement already satisfied: cmake in /usr/local/lib/python3.10/dist-packages (from triton==2.0.0->torch>=1.12.1->fairseq2==0.1) (3.27.2)\n",
      "Requirement already satisfied: lit in /usr/local/lib/python3.10/dist-packages (from triton==2.0.0->torch>=1.12.1->fairseq2==0.1) (16.0.6)\n",
      "Requirement already satisfied: click<9.0.0,>=8.1.3 in /usr/local/lib/python3.10/dist-packages (from jiwer~=3.0->fairseq2==0.1) (8.1.7)\n",
      "Collecting rapidfuzz==2.13.7 (from jiwer~=3.0->fairseq2==0.1)\n",
      "  Downloading rapidfuzz-2.13.7-cp310-cp310-manylinux_2_17_x86_64.manylinux2014_x86_64.whl (2.2 MB)\n",
      "\u001b[2K     \u001b[90m━━━━━━━━━━━━━━━━━━━━━━━━━━━━━━━━━━━━━━━━\u001b[0m \u001b[32m2.2/2.2 MB\u001b[0m \u001b[31m32.0 MB/s\u001b[0m eta \u001b[36m0:00:00\u001b[0m\n",
      "\u001b[?25hCollecting portalocker (from sacrebleu~=2.3->fairseq2==0.1)\n",
      "  Downloading portalocker-2.7.0-py2.py3-none-any.whl (15 kB)\n",
      "Requirement already satisfied: regex in /usr/local/lib/python3.10/dist-packages (from sacrebleu~=2.3->fairseq2==0.1) (2023.6.3)\n",
      "Requirement already satisfied: tabulate>=0.8.9 in /usr/local/lib/python3.10/dist-packages (from sacrebleu~=2.3->fairseq2==0.1) (0.9.0)\n",
      "Collecting colorama (from sacrebleu~=2.3->fairseq2==0.1)\n",
      "  Downloading colorama-0.4.6-py2.py3-none-any.whl (25 kB)\n",
      "Requirement already satisfied: lxml in /usr/local/lib/python3.10/dist-packages (from sacrebleu~=2.3->fairseq2==0.1) (4.9.3)\n",
      "Collecting torchtnt>=0.0.5 (from torcheval~=0.0.6->fairseq2==0.1)\n",
      "  Downloading torchtnt-0.2.0-py3-none-any.whl (111 kB)\n",
      "\u001b[2K     \u001b[90m━━━━━━━━━━━━━━━━━━━━━━━━━━━━━━━━━━━━━━\u001b[0m \u001b[32m111.0/111.0 kB\u001b[0m \u001b[31m14.9 MB/s\u001b[0m eta \u001b[36m0:00:00\u001b[0m\n",
      "\u001b[?25hRequirement already satisfied: fsspec in /usr/local/lib/python3.10/dist-packages (from torchtnt>=0.0.5->torcheval~=0.0.6->fairseq2==0.1) (2023.6.0)\n",
      "Requirement already satisfied: tensorboard in /usr/local/lib/python3.10/dist-packages (from torchtnt>=0.0.5->torcheval~=0.0.6->fairseq2==0.1) (2.12.3)\n",
      "Requirement already satisfied: psutil in /usr/local/lib/python3.10/dist-packages (from torchtnt>=0.0.5->torcheval~=0.0.6->fairseq2==0.1) (5.9.5)\n",
      "Collecting pyre-extensions (from torchtnt>=0.0.5->torcheval~=0.0.6->fairseq2==0.1)\n",
      "  Downloading pyre_extensions-0.0.30-py3-none-any.whl (12 kB)\n",
      "Requirement already satisfied: setuptools in /usr/local/lib/python3.10/dist-packages (from torchtnt>=0.0.5->torcheval~=0.0.6->fairseq2==0.1) (67.7.2)\n",
      "Requirement already satisfied: tqdm in /usr/local/lib/python3.10/dist-packages (from torchtnt>=0.0.5->torcheval~=0.0.6->fairseq2==0.1) (4.66.1)\n",
      "Requirement already satisfied: MarkupSafe>=2.0 in /usr/local/lib/python3.10/dist-packages (from jinja2->torch>=1.12.1->fairseq2==0.1) (2.1.3)\n",
      "Requirement already satisfied: mpmath>=0.19 in /usr/local/lib/python3.10/dist-packages (from sympy->torch>=1.12.1->fairseq2==0.1) (1.3.0)\n",
      "Collecting typing-inspect (from pyre-extensions->torchtnt>=0.0.5->torcheval~=0.0.6->fairseq2==0.1)\n",
      "  Downloading typing_inspect-0.9.0-py3-none-any.whl (8.8 kB)\n",
      "Requirement already satisfied: absl-py>=0.4 in /usr/local/lib/python3.10/dist-packages (from tensorboard->torchtnt>=0.0.5->torcheval~=0.0.6->fairseq2==0.1) (1.4.0)\n",
      "Requirement already satisfied: grpcio>=1.48.2 in /usr/local/lib/python3.10/dist-packages (from tensorboard->torchtnt>=0.0.5->torcheval~=0.0.6->fairseq2==0.1) (1.57.0)\n",
      "Requirement already satisfied: google-auth<3,>=1.6.3 in /usr/local/lib/python3.10/dist-packages (from tensorboard->torchtnt>=0.0.5->torcheval~=0.0.6->fairseq2==0.1) (2.17.3)\n",
      "Requirement already satisfied: google-auth-oauthlib<1.1,>=0.5 in /usr/local/lib/python3.10/dist-packages (from tensorboard->torchtnt>=0.0.5->torcheval~=0.0.6->fairseq2==0.1) (1.0.0)\n",
      "Requirement already satisfied: markdown>=2.6.8 in /usr/local/lib/python3.10/dist-packages (from tensorboard->torchtnt>=0.0.5->torcheval~=0.0.6->fairseq2==0.1) (3.4.4)\n",
      "Requirement already satisfied: protobuf>=3.19.6 in /usr/local/lib/python3.10/dist-packages (from tensorboard->torchtnt>=0.0.5->torcheval~=0.0.6->fairseq2==0.1) (3.20.3)\n",
      "Requirement already satisfied: requests<3,>=2.21.0 in /usr/local/lib/python3.10/dist-packages (from tensorboard->torchtnt>=0.0.5->torcheval~=0.0.6->fairseq2==0.1) (2.31.0)\n",
      "Requirement already satisfied: tensorboard-data-server<0.8.0,>=0.7.0 in /usr/local/lib/python3.10/dist-packages (from tensorboard->torchtnt>=0.0.5->torcheval~=0.0.6->fairseq2==0.1) (0.7.1)\n",
      "Requirement already satisfied: werkzeug>=1.0.1 in /usr/local/lib/python3.10/dist-packages (from tensorboard->torchtnt>=0.0.5->torcheval~=0.0.6->fairseq2==0.1) (2.3.7)\n",
      "Requirement already satisfied: wheel>=0.26 in /usr/local/lib/python3.10/dist-packages (from tensorboard->torchtnt>=0.0.5->torcheval~=0.0.6->fairseq2==0.1) (0.41.1)\n",
      "Requirement already satisfied: cachetools<6.0,>=2.0.0 in /usr/local/lib/python3.10/dist-packages (from google-auth<3,>=1.6.3->tensorboard->torchtnt>=0.0.5->torcheval~=0.0.6->fairseq2==0.1) (5.3.1)\n",
      "Requirement already satisfied: pyasn1-modules>=0.2.1 in /usr/local/lib/python3.10/dist-packages (from google-auth<3,>=1.6.3->tensorboard->torchtnt>=0.0.5->torcheval~=0.0.6->fairseq2==0.1) (0.3.0)\n",
      "Requirement already satisfied: six>=1.9.0 in /usr/local/lib/python3.10/dist-packages (from google-auth<3,>=1.6.3->tensorboard->torchtnt>=0.0.5->torcheval~=0.0.6->fairseq2==0.1) (1.16.0)\n",
      "Requirement already satisfied: rsa<5,>=3.1.4 in /usr/local/lib/python3.10/dist-packages (from google-auth<3,>=1.6.3->tensorboard->torchtnt>=0.0.5->torcheval~=0.0.6->fairseq2==0.1) (4.9)\n",
      "Requirement already satisfied: requests-oauthlib>=0.7.0 in /usr/local/lib/python3.10/dist-packages (from google-auth-oauthlib<1.1,>=0.5->tensorboard->torchtnt>=0.0.5->torcheval~=0.0.6->fairseq2==0.1) (1.3.1)\n",
      "Requirement already satisfied: charset-normalizer<4,>=2 in /usr/local/lib/python3.10/dist-packages (from requests<3,>=2.21.0->tensorboard->torchtnt>=0.0.5->torcheval~=0.0.6->fairseq2==0.1) (3.2.0)\n",
      "Requirement already satisfied: idna<4,>=2.5 in /usr/local/lib/python3.10/dist-packages (from requests<3,>=2.21.0->tensorboard->torchtnt>=0.0.5->torcheval~=0.0.6->fairseq2==0.1) (3.4)\n",
      "Requirement already satisfied: urllib3<3,>=1.21.1 in /usr/local/lib/python3.10/dist-packages (from requests<3,>=2.21.0->tensorboard->torchtnt>=0.0.5->torcheval~=0.0.6->fairseq2==0.1) (2.0.4)\n",
      "Requirement already satisfied: certifi>=2017.4.17 in /usr/local/lib/python3.10/dist-packages (from requests<3,>=2.21.0->tensorboard->torchtnt>=0.0.5->torcheval~=0.0.6->fairseq2==0.1) (2023.7.22)\n",
      "Collecting mypy-extensions>=0.3.0 (from typing-inspect->pyre-extensions->torchtnt>=0.0.5->torcheval~=0.0.6->fairseq2==0.1)\n",
      "  Downloading mypy_extensions-1.0.0-py3-none-any.whl (4.7 kB)\n",
      "Requirement already satisfied: pyasn1<0.6.0,>=0.4.6 in /usr/local/lib/python3.10/dist-packages (from pyasn1-modules>=0.2.1->google-auth<3,>=1.6.3->tensorboard->torchtnt>=0.0.5->torcheval~=0.0.6->fairseq2==0.1) (0.5.0)\n",
      "Requirement already satisfied: oauthlib>=3.0.0 in /usr/local/lib/python3.10/dist-packages (from requests-oauthlib>=0.7.0->google-auth-oauthlib<1.1,>=0.5->tensorboard->torchtnt>=0.0.5->torcheval~=0.0.6->fairseq2==0.1) (3.2.2)\n",
      "Installing collected packages: tbb, rapidfuzz, portalocker, overrides, mypy-extensions, colorama, typing-inspect, sacrebleu, jiwer, pyre-extensions, torchtnt, torcheval, fairseq2n, fairseq2\n",
      "  Attempting uninstall: tbb\n",
      "    Found existing installation: tbb 2021.10.0\n",
      "    Uninstalling tbb-2021.10.0:\n",
      "      Successfully uninstalled tbb-2021.10.0\n",
      "Successfully installed colorama-0.4.6 fairseq2-0.1.0 fairseq2n-0.1.0 jiwer-3.0.2 mypy-extensions-1.0.0 overrides-7.4.0 portalocker-2.7.0 pyre-extensions-0.0.30 rapidfuzz-2.13.7 sacrebleu-2.3.1 tbb-2021.8.0 torcheval-0.0.6 torchtnt-0.2.0 typing-inspect-0.9.0\n"
     ]
    }
   ],
   "source": [
    "!pip install fairseq2==0.1"
   ]
  },
  {
   "cell_type": "markdown",
   "metadata": {
    "id": "CU2tBQxGS506"
   },
   "source": [
    "Скачаем установщик с гитхаба"
   ]
  },
  {
   "cell_type": "code",
   "execution_count": null,
   "metadata": {
    "colab": {
     "base_uri": "https://localhost:8080/"
    },
    "executionInfo": {
     "elapsed": 749,
     "status": "ok",
     "timestamp": 1692720889265,
     "user": {
      "displayName": "Vladimir Orlenko",
      "userId": "14647639487768811794"
     },
     "user_tz": -300
    },
    "id": "JnRP80dUAGcu",
    "outputId": "42efde7b-fcec-4aa5-f328-0baa3c81ab54"
   },
   "outputs": [
    {
     "name": "stdout",
     "output_type": "stream",
     "text": [
      "--2023-08-22 16:14:48--  https://github.com/facebookresearch/seamless_communication/archive/refs/heads/main.zip\n",
      "Resolving github.com (github.com)... 140.82.112.3\n",
      "Connecting to github.com (github.com)|140.82.112.3|:443... connected.\n",
      "HTTP request sent, awaiting response... 302 Found\n",
      "Location: https://codeload.github.com/facebookresearch/seamless_communication/zip/refs/heads/main [following]\n",
      "--2023-08-22 16:14:48--  https://codeload.github.com/facebookresearch/seamless_communication/zip/refs/heads/main\n",
      "Resolving codeload.github.com (codeload.github.com)... 140.82.114.9\n",
      "Connecting to codeload.github.com (codeload.github.com)|140.82.114.9|:443... connected.\n",
      "HTTP request sent, awaiting response... 200 OK\n",
      "Length: unspecified [application/zip]\n",
      "Saving to: ‘main.zip’\n",
      "\n",
      "main.zip                [ <=>                ] 268.61K  --.-KB/s    in 0.05s   \n",
      "\n",
      "2023-08-22 16:14:48 (5.26 MB/s) - ‘main.zip’ saved [275053]\n",
      "\n",
      "Archive:  main.zip\n",
      "01c1042841f9bce66902eb2c7512dbdd71d42112\n",
      "   creating: seamless_communication-main/\n",
      "  inflating: seamless_communication-main/.gitignore  \n",
      "  inflating: seamless_communication-main/.pre-commit-config.yaml  \n",
      "  inflating: seamless_communication-main/CODE_OF_CONDUCT.md  \n",
      "  inflating: seamless_communication-main/CONTRIBUTING.md  \n",
      "  inflating: seamless_communication-main/LICENSE  \n",
      "  inflating: seamless_communication-main/README.md  \n",
      "   creating: seamless_communication-main/docs/\n",
      "   creating: seamless_communication-main/docs/m4t/\n",
      "  inflating: seamless_communication-main/docs/m4t/eval_README.md  \n",
      "  inflating: seamless_communication-main/docs/m4t/on_device_README.md  \n",
      "  inflating: seamless_communication-main/docs/m4t/seamless_align_README.md  \n",
      " extracting: seamless_communication-main/requirements.txt  \n",
      "   creating: seamless_communication-main/scripts/\n",
      "   creating: seamless_communication-main/scripts/m4t/\n",
      "   creating: seamless_communication-main/scripts/m4t/finetune/\n",
      "  inflating: seamless_communication-main/scripts/m4t/finetune/README.md  \n",
      " extracting: seamless_communication-main/scripts/m4t/finetune/__init__.py  \n",
      "  inflating: seamless_communication-main/scripts/m4t/finetune/dataloader.py  \n",
      "  inflating: seamless_communication-main/scripts/m4t/finetune/dataset.py  \n",
      "  inflating: seamless_communication-main/scripts/m4t/finetune/dist_utils.py  \n",
      "  inflating: seamless_communication-main/scripts/m4t/finetune/finetune.py  \n",
      "  inflating: seamless_communication-main/scripts/m4t/finetune/trainer.py  \n",
      "   creating: seamless_communication-main/scripts/m4t/predict/\n",
      "  inflating: seamless_communication-main/scripts/m4t/predict/README.md  \n",
      "  inflating: seamless_communication-main/scripts/m4t/predict/predict.py  \n",
      " extracting: seamless_communication-main/seamlessM4T.png  \n",
      "  inflating: seamless_communication-main/setup.py  \n",
      "   creating: seamless_communication-main/src/\n",
      "   creating: seamless_communication-main/src/seamless_communication/\n",
      "  inflating: seamless_communication-main/src/seamless_communication/__init__.py  \n",
      "   creating: seamless_communication-main/src/seamless_communication/assets/\n",
      "  inflating: seamless_communication-main/src/seamless_communication/assets/__init__.py  \n",
      "   creating: seamless_communication-main/src/seamless_communication/assets/cards/\n",
      "  inflating: seamless_communication-main/src/seamless_communication/assets/cards/seamlessM4T_large.yaml  \n",
      "  inflating: seamless_communication-main/src/seamless_communication/assets/cards/seamlessM4T_medium.yaml  \n",
      "  inflating: seamless_communication-main/src/seamless_communication/assets/cards/unity_nllb-100.yaml  \n",
      "  inflating: seamless_communication-main/src/seamless_communication/assets/cards/unity_nllb-200.yaml  \n",
      "  inflating: seamless_communication-main/src/seamless_communication/assets/cards/vocoder_36langs.yaml  \n",
      "  inflating: seamless_communication-main/src/seamless_communication/assets/download_manager.py  \n",
      "  inflating: seamless_communication-main/src/seamless_communication/assets/store.py  \n",
      "   creating: seamless_communication-main/src/seamless_communication/datasets/\n",
      " extracting: seamless_communication-main/src/seamless_communication/datasets/__init__.py  \n",
      "  inflating: seamless_communication-main/src/seamless_communication/datasets/datatypes.py  \n",
      "  inflating: seamless_communication-main/src/seamless_communication/datasets/huggingface.py  \n",
      "   creating: seamless_communication-main/src/seamless_communication/models/\n",
      "  inflating: seamless_communication-main/src/seamless_communication/models/__init__.py  \n",
      "   creating: seamless_communication-main/src/seamless_communication/models/inference/\n",
      "  inflating: seamless_communication-main/src/seamless_communication/models/inference/__init__.py  \n",
      "  inflating: seamless_communication-main/src/seamless_communication/models/inference/translator.py  \n",
      "   creating: seamless_communication-main/src/seamless_communication/models/unity/\n",
      "  inflating: seamless_communication-main/src/seamless_communication/models/unity/__init__.py  \n",
      "  inflating: seamless_communication-main/src/seamless_communication/models/unity/adaptor_block.py  \n",
      "  inflating: seamless_communication-main/src/seamless_communication/models/unity/builder.py  \n",
      "  inflating: seamless_communication-main/src/seamless_communication/models/unity/generator.py  \n",
      "  inflating: seamless_communication-main/src/seamless_communication/models/unity/loader.py  \n",
      "  inflating: seamless_communication-main/src/seamless_communication/models/unity/model.py  \n",
      "  inflating: seamless_communication-main/src/seamless_communication/models/unity/unit_tokenizer.py  \n",
      "   creating: seamless_communication-main/src/seamless_communication/models/vocoder/\n",
      "  inflating: seamless_communication-main/src/seamless_communication/models/vocoder/__init__.py  \n",
      "  inflating: seamless_communication-main/src/seamless_communication/models/vocoder/builder.py  \n",
      "  inflating: seamless_communication-main/src/seamless_communication/models/vocoder/codehifigan.py  \n",
      "  inflating: seamless_communication-main/src/seamless_communication/models/vocoder/hifigan.py  \n",
      "  inflating: seamless_communication-main/src/seamless_communication/models/vocoder/loader.py  \n",
      "  inflating: seamless_communication-main/src/seamless_communication/models/vocoder/vocoder.py  \n"
     ]
    }
   ],
   "source": [
    "!wget https://github.com/facebookresearch/seamless_communication/archive/refs/heads/main.zip && unzip main.zip"
   ]
  },
  {
   "cell_type": "markdown",
   "metadata": {
    "id": "VrySe3mxTB9L"
   },
   "source": [
    "Установим модель"
   ]
  },
  {
   "cell_type": "code",
   "execution_count": null,
   "metadata": {
    "colab": {
     "base_uri": "https://localhost:8080/"
    },
    "executionInfo": {
     "elapsed": 6002,
     "status": "ok",
     "timestamp": 1692720895265,
     "user": {
      "displayName": "Vladimir Orlenko",
      "userId": "14647639487768811794"
     },
     "user_tz": -300
    },
    "id": "GGGV2RG7AZw7",
    "outputId": "700e5eed-6fbc-4441-9604-8c905e045cda"
   },
   "outputs": [
    {
     "name": "stdout",
     "output_type": "stream",
     "text": [
      "Processing /content/seamless_communication-main\n",
      "  Preparing metadata (setup.py) ... \u001b[?25l\u001b[?25hdone\n",
      "Building wheels for collected packages: seamless-communication\n",
      "  Building wheel for seamless-communication (setup.py) ... \u001b[?25l\u001b[?25hdone\n",
      "  Created wheel for seamless-communication: filename=seamless_communication-0.1-py3-none-any.whl size=42637 sha256=5a85f0ddcf4ee0fae9974e4f3a23fd3ffa4161c7161483073f94f3c4cd53d0e5\n",
      "  Stored in directory: /root/.cache/pip/wheels/73/7d/af/7c699ab4b97c66df074478227d6613ea29b940c26811beec2c\n",
      "Successfully built seamless-communication\n",
      "Installing collected packages: seamless-communication\n",
      "Successfully installed seamless-communication-0.1\n"
     ]
    }
   ],
   "source": [
    "!cd seamless_communication-main && pip install ."
   ]
  },
  {
   "cell_type": "markdown",
   "metadata": {
    "id": "GEo9JlIzTIfx"
   },
   "source": [
    "Загрузим модель"
   ]
  },
  {
   "cell_type": "code",
   "execution_count": null,
   "metadata": {
    "colab": {
     "base_uri": "https://localhost:8080/"
    },
    "executionInfo": {
     "elapsed": 168857,
     "status": "ok",
     "timestamp": 1692721064120,
     "user": {
      "displayName": "Vladimir Orlenko",
      "userId": "14647639487768811794"
     },
     "user_tz": -300
    },
    "id": "mBT5V8_H-G4Z",
    "outputId": "5b21a005-3780-4e5e-ee55-8d906069f275"
   },
   "outputs": [
    {
     "name": "stderr",
     "output_type": "stream",
     "text": [
      "Downloading the checkpoint of the model 'seamlessM4T_large'...\n",
      "100%|██████████| 10.7G/10.7G [01:42<00:00, 111MB/s] \n",
      "Downloading the tokenizer of the model 'seamlessM4T_large'...\n",
      "100%|██████████| 4.93M/4.93M [00:00<00:00, 27.2MB/s]\n",
      "Downloading the checkpoint of the model 'vocoder_36langs'...\n",
      "100%|██████████| 160M/160M [00:03<00:00, 52.4MB/s]\n"
     ]
    }
   ],
   "source": [
    "import torch\n",
    "from seamless_communication.models.inference import Translator\n",
    "\n",
    "\n",
    "# Initialize a Translator object with a multitask model, vocoder on the GPU.\n",
    "translator = Translator(\"seamlessM4T_large\", vocoder_name_or_card=\"vocoder_36langs\", device=torch.device(\"cuda\"))"
   ]
  },
  {
   "cell_type": "markdown",
   "metadata": {
    "id": "NF4h8CXYTMri"
   },
   "source": [
    "Установим пакет `torchaudio` для работы с аудифайлом"
   ]
  },
  {
   "cell_type": "code",
   "execution_count": null,
   "metadata": {
    "colab": {
     "base_uri": "https://localhost:8080/"
    },
    "executionInfo": {
     "elapsed": 6471,
     "status": "ok",
     "timestamp": 1692722232905,
     "user": {
      "displayName": "Vladimir Orlenko",
      "userId": "14647639487768811794"
     },
     "user_tz": -300
    },
    "id": "kHgZB0npGz02",
    "outputId": "4ad28115-77fe-4f02-c650-ac4426f81f17"
   },
   "outputs": [
    {
     "name": "stdout",
     "output_type": "stream",
     "text": [
      "Requirement already satisfied: torchaudio in /usr/local/lib/python3.10/dist-packages (2.0.2+cu118)\n",
      "Requirement already satisfied: torch==2.0.1 in /usr/local/lib/python3.10/dist-packages (from torchaudio) (2.0.1+cu118)\n",
      "Requirement already satisfied: filelock in /usr/local/lib/python3.10/dist-packages (from torch==2.0.1->torchaudio) (3.12.2)\n",
      "Requirement already satisfied: typing-extensions in /usr/local/lib/python3.10/dist-packages (from torch==2.0.1->torchaudio) (4.7.1)\n",
      "Requirement already satisfied: sympy in /usr/local/lib/python3.10/dist-packages (from torch==2.0.1->torchaudio) (1.12)\n",
      "Requirement already satisfied: networkx in /usr/local/lib/python3.10/dist-packages (from torch==2.0.1->torchaudio) (3.1)\n",
      "Requirement already satisfied: jinja2 in /usr/local/lib/python3.10/dist-packages (from torch==2.0.1->torchaudio) (3.1.2)\n",
      "Requirement already satisfied: triton==2.0.0 in /usr/local/lib/python3.10/dist-packages (from torch==2.0.1->torchaudio) (2.0.0)\n",
      "Requirement already satisfied: cmake in /usr/local/lib/python3.10/dist-packages (from triton==2.0.0->torch==2.0.1->torchaudio) (3.27.2)\n",
      "Requirement already satisfied: lit in /usr/local/lib/python3.10/dist-packages (from triton==2.0.0->torch==2.0.1->torchaudio) (16.0.6)\n",
      "Requirement already satisfied: MarkupSafe>=2.0 in /usr/local/lib/python3.10/dist-packages (from jinja2->torch==2.0.1->torchaudio) (2.1.3)\n",
      "Requirement already satisfied: mpmath>=0.19 in /usr/local/lib/python3.10/dist-packages (from sympy->torch==2.0.1->torchaudio) (1.3.0)\n"
     ]
    }
   ],
   "source": [
    "!pip install torchaudio"
   ]
  },
  {
   "cell_type": "code",
   "execution_count": null,
   "metadata": {
    "id": "Zou5oDW0Hh86"
   },
   "outputs": [],
   "source": [
    "import torchaudio"
   ]
  },
  {
   "cell_type": "markdown",
   "metadata": {
    "id": "TfDIm_MXTZgT"
   },
   "source": [
    "Все готово, и можно приступать к тестрованию"
   ]
  },
  {
   "cell_type": "markdown",
   "metadata": {
    "id": "55CXoFvlA1qX"
   },
   "source": [
    "Text-to-speech translation"
   ]
  },
  {
   "cell_type": "code",
   "execution_count": null,
   "metadata": {
    "id": "0YjAZ3msBWTS"
   },
   "outputs": [],
   "source": [
    "txt_orig=\"Machine learning (ML) is an umbrella term for solving problems for which development of algorithms by human programmers would be cost-prohibitive, and instead the problems are solved by helping machines 'discover' their 'own' algorithms, without needing to be explicitly told what to do by any human-developed algorithms. Recently, generative artificial neural networks have been able to surpass results of many previous approaches. Machine learning approaches have been applied to large language models, computer vision, speech recognition, email filtering, agriculture and medicine, where it is too costly to develop algorithms to perform the needed tasks.\""
   ]
  },
  {
   "cell_type": "code",
   "execution_count": null,
   "metadata": {
    "id": "Mw4SYQuXA0Gh"
   },
   "outputs": [],
   "source": [
    "# T2ST\n",
    "translated_text, wav, sr = translator.predict(txt_orig, \"t2st\", tgt_lang=\"rus\", src_lang=\"eng\")\n",
    "\n",
    "# Save the translated audio generation.\n",
    "torchaudio.save(\n",
    "   \"1.mp3\",\n",
    "    wav[0].cpu(),\n",
    "    sample_rate=sr,\n",
    ")"
   ]
  },
  {
   "cell_type": "markdown",
   "metadata": {
    "id": "NpA53yQCCF59"
   },
   "source": [
    "Speech-to-speech translation (S2ST)"
   ]
  },
  {
   "cell_type": "markdown",
   "metadata": {
    "id": "uMiFKiZ4Ol_0"
   },
   "source": [
    "Скачаем ролик с сайта BBC"
   ]
  },
  {
   "cell_type": "code",
   "execution_count": null,
   "metadata": {
    "colab": {
     "base_uri": "https://localhost:8080/"
    },
    "executionInfo": {
     "elapsed": 1557,
     "status": "ok",
     "timestamp": 1692722833290,
     "user": {
      "displayName": "Vladimir Orlenko",
      "userId": "14647639487768811794"
     },
     "user_tz": -300
    },
    "id": "H82MLCZRIzF6",
    "outputId": "2bfd27a8-ef5d-46ea-a4a1-22debca6686e"
   },
   "outputs": [
    {
     "name": "stdout",
     "output_type": "stream",
     "text": [
      "--2023-08-22 16:47:11--  https://open.live.bbc.co.uk/mediaselector/6/redir/version/2.0/mediaset/audio-nondrm-download/proto/https/vpid/p0g764lc.mp3\n",
      "Resolving open.live.bbc.co.uk (open.live.bbc.co.uk)... 212.58.249.158, 212.58.244.79\n",
      "Connecting to open.live.bbc.co.uk (open.live.bbc.co.uk)|212.58.249.158|:443... connected.\n",
      "HTTP request sent, awaiting response... 302 Found\n",
      "Location: https://flex.acast.com/ak/mpg_mp3_med/modav/bUnknown-916773b6-c2bc-4a5c-b42e-664b06980323_p0g764lc_cUnknown_1692263409705.mp3?__gda__=1692744432_bca2578e0a54e90f98dc6661649c8296 [following]\n",
      "--2023-08-22 16:47:12--  https://flex.acast.com/ak/mpg_mp3_med/modav/bUnknown-916773b6-c2bc-4a5c-b42e-664b06980323_p0g764lc_cUnknown_1692263409705.mp3?__gda__=1692744432_bca2578e0a54e90f98dc6661649c8296\n",
      "Resolving flex.acast.com (flex.acast.com)... 65.8.178.29, 65.8.178.19, 65.8.178.71, ...\n",
      "Connecting to flex.acast.com (flex.acast.com)|65.8.178.29|:443... connected.\n",
      "HTTP request sent, awaiting response... 302 Found\n",
      "Location: https://aod-pod-ww-live.akamaized.net/mpg_mp3_med/modav/bUnknown-916773b6-c2bc-4a5c-b42e-664b06980323_p0g764lc_cUnknown_1692263409705.mp3?__gda__=1692744432_bca2578e0a54e90f98dc6661649c8296 [following]\n",
      "--2023-08-22 16:47:12--  https://aod-pod-ww-live.akamaized.net/mpg_mp3_med/modav/bUnknown-916773b6-c2bc-4a5c-b42e-664b06980323_p0g764lc_cUnknown_1692263409705.mp3?__gda__=1692744432_bca2578e0a54e90f98dc6661649c8296\n",
      "Resolving aod-pod-ww-live.akamaized.net (aod-pod-ww-live.akamaized.net)... 23.49.5.46, 23.49.5.20\n",
      "Connecting to aod-pod-ww-live.akamaized.net (aod-pod-ww-live.akamaized.net)|23.49.5.46|:443... connected.\n",
      "HTTP request sent, awaiting response... 200 OK\n",
      "Length: 6001291 (5.7M) [audio/mpeg]\n",
      "Saving to: ‘p0g764lc.mp3’\n",
      "\n",
      "p0g764lc.mp3        100%[===================>]   5.72M  --.-KB/s    in 0.1s    \n",
      "\n",
      "2023-08-22 16:47:12 (58.7 MB/s) - ‘p0g764lc.mp3’ saved [6001291/6001291]\n",
      "\n"
     ]
    }
   ],
   "source": [
    "!wget https://open.live.bbc.co.uk/mediaselector/6/redir/version/2.0/mediaset/audio-nondrm-download/proto/https/vpid/p0g764lc.mp3"
   ]
  },
  {
   "cell_type": "markdown",
   "metadata": {
    "id": "ePq921nCOuRF"
   },
   "source": [
    "Установим библиотеку для работы с `ffmpeg`"
   ]
  },
  {
   "cell_type": "code",
   "execution_count": null,
   "metadata": {
    "colab": {
     "base_uri": "https://localhost:8080/"
    },
    "executionInfo": {
     "elapsed": 5741,
     "status": "ok",
     "timestamp": 1692722965958,
     "user": {
      "displayName": "Vladimir Orlenko",
      "userId": "14647639487768811794"
     },
     "user_tz": -300
    },
    "id": "2xwYjb2lJnvV",
    "outputId": "fc139e4f-e9ca-4e24-d057-7b84b5d44fc3"
   },
   "outputs": [
    {
     "name": "stdout",
     "output_type": "stream",
     "text": [
      "Collecting ffmpeg-python\n",
      "  Downloading ffmpeg_python-0.2.0-py3-none-any.whl (25 kB)\n",
      "Requirement already satisfied: future in /usr/local/lib/python3.10/dist-packages (from ffmpeg-python) (0.18.3)\n",
      "Installing collected packages: ffmpeg-python\n",
      "Successfully installed ffmpeg-python-0.2.0\n"
     ]
    }
   ],
   "source": [
    "!pip install ffmpeg-python"
   ]
  },
  {
   "cell_type": "markdown",
   "metadata": {
    "id": "62R_sjAdO6mQ"
   },
   "source": [
    "Удалим предыдущий файл `wav`"
   ]
  },
  {
   "cell_type": "code",
   "execution_count": null,
   "metadata": {
    "id": "AgaqMW0fN5_-"
   },
   "outputs": [],
   "source": [
    "!rm p0g764lc.wav"
   ]
  },
  {
   "cell_type": "markdown",
   "metadata": {
    "id": "EKT5-rP9Q7W4"
   },
   "source": [
    "Обрежем наш исходный файл, и сконвертируем его в формат `wav`"
   ]
  },
  {
   "cell_type": "code",
   "execution_count": null,
   "metadata": {
    "colab": {
     "base_uri": "https://localhost:8080/"
    },
    "executionInfo": {
     "elapsed": 7,
     "status": "ok",
     "timestamp": 1692724086659,
     "user": {
      "displayName": "Vladimir Orlenko",
      "userId": "14647639487768811794"
     },
     "user_tz": -300
    },
    "id": "5aJtqi9SJ4iI",
    "outputId": "7eca3706-04f9-4bbe-f73c-d61347b62970"
   },
   "outputs": [
    {
     "data": {
      "text/plain": [
       "(None, None)"
      ]
     },
     "execution_count": 36,
     "metadata": {},
     "output_type": "execute_result"
    }
   ],
   "source": [
    "path_to_orig_audio=\"p0g764lc.mp3\"\n",
    "path_to_input_audio=\"p0g764lc.wav\"\n",
    "\n",
    "import ffmpeg\n",
    "(\n",
    "    ffmpeg\n",
    "    .input(path_to_orig_audio).audio.filter('atrim', duration=20)\n",
    "    .output(path_to_input_audio)\n",
    "    .run()\n",
    ")"
   ]
  },
  {
   "cell_type": "markdown",
   "metadata": {
    "id": "V2kDfDR7RM1q"
   },
   "source": [
    "Получим перевод файла в текст и аудио"
   ]
  },
  {
   "cell_type": "code",
   "execution_count": null,
   "metadata": {
    "id": "Jny60cIMB-gr"
   },
   "outputs": [],
   "source": [
    "# S2ST\n",
    "\n",
    "translated_text, wav, sr = translator.predict(path_to_input_audio, \"s2st\", tgt_lang=\"rus\",)"
   ]
  },
  {
   "cell_type": "markdown",
   "metadata": {
    "id": "ytGgWaypRXKS"
   },
   "source": [
    "Выведем текст на экран"
   ]
  },
  {
   "cell_type": "code",
   "execution_count": null,
   "metadata": {
    "colab": {
     "base_uri": "https://localhost:8080/"
    },
    "executionInfo": {
     "elapsed": 339,
     "status": "ok",
     "timestamp": 1692724130313,
     "user": {
      "displayName": "Vladimir Orlenko",
      "userId": "14647639487768811794"
     },
     "user_tz": -300
    },
    "id": "1_0baXCtMJUm",
    "outputId": "b7b9b841-af12-42c1-9bcf-c573ea19fdd9"
   },
   "outputs": [
    {
     "name": "stdout",
     "output_type": "stream",
     "text": [
      "Здравствуйте, это шестиминутный английский с BBC Learning English. Я Нил и я Бет. У вас когда-нибудь был ужасный босс, которому не платили достаточно или который просто устал делать ту же старую работу?\n"
     ]
    }
   ],
   "source": [
    "print(translated_text)"
   ]
  },
  {
   "cell_type": "markdown",
   "metadata": {
    "id": "TmiKrYNkRc5v"
   },
   "source": [
    "И сохраним аудио в файл"
   ]
  },
  {
   "cell_type": "code",
   "execution_count": null,
   "metadata": {
    "id": "lGH8KLvMMTd8"
   },
   "outputs": [],
   "source": [
    "# Save the translated audio generation.\n",
    "torchaudio.save(\n",
    "    \"BBC.mp3\",\n",
    "    wav[0].cpu(),\n",
    "    sample_rate=sr,\n",
    ")"
   ]
  },
  {
   "cell_type": "markdown",
   "metadata": {
    "id": "X_4RC650C0n6"
   },
   "source": [
    "Text-to-text translation (T2TT)"
   ]
  },
  {
   "cell_type": "markdown",
   "metadata": {
    "id": "cw4P6jjyRjnH"
   },
   "source": [
    "Получим перевод текста в текст"
   ]
  },
  {
   "cell_type": "code",
   "execution_count": null,
   "metadata": {
    "id": "xWRr5-wsCvXS"
   },
   "outputs": [],
   "source": [
    "# T2TT\n",
    "translated_text, _, _ = translator.predict(txt_orig, \"t2tt\", tgt_lang=\"rus\", src_lang=\"eng\")"
   ]
  },
  {
   "cell_type": "markdown",
   "metadata": {
    "id": "9OpRFIrfRq4O"
   },
   "source": [
    "и выведем текстовый перевод на экран"
   ]
  },
  {
   "cell_type": "code",
   "execution_count": null,
   "metadata": {
    "colab": {
     "base_uri": "https://localhost:8080/"
    },
    "executionInfo": {
     "elapsed": 293,
     "status": "ok",
     "timestamp": 1692721898380,
     "user": {
      "displayName": "Vladimir Orlenko",
      "userId": "14647639487768811794"
     },
     "user_tz": -300
    },
    "id": "lMsGwpMBFjyF",
    "outputId": "fafe225b-9a55-4126-dda2-4e859291d0c0"
   },
   "outputs": [
    {
     "name": "stdout",
     "output_type": "stream",
     "text": [
      "Машинное обучение (ML) - это общий термин для решения проблем, для которых разработка алгоритмов человеческими программистами была бы недоступна, и вместо этого проблемы решаются, помогая машинам \"открыть\" свои \"собственные\" алгоритмы, без необходимости явного указания, что делать любыми разработанными человеком алгоритмами. В последнее время генеративные искусственные нейронные сети смогли превзойти результаты многих предыдущих подходов. Подходы машинного обучения были применены к большим языковым моделям, компьютерному зрению, распознаванию речи, фильтрации электронной почты, сельскому хозяйству и медицине, где разработка алгоритмов для выполнения необходимых задач слишком дорога.\n"
     ]
    }
   ],
   "source": [
    "print(translated_text)"
   ]
  },
  {
   "cell_type": "markdown",
   "metadata": {
    "id": "b5apA6-1NAk0"
   },
   "source": [
    "Automatic speech recognition (ASR)"
   ]
  },
  {
   "cell_type": "markdown",
   "metadata": {
    "id": "RtogIevORw9U"
   },
   "source": [
    "Получим транскрибцию аудио файла"
   ]
  },
  {
   "cell_type": "code",
   "execution_count": null,
   "metadata": {
    "id": "176YDfSNNCGL"
   },
   "outputs": [],
   "source": [
    "# ASR\n",
    "# This is equivalent to S2TT with `<tgt_lang>=<src_lang>`.\n",
    "transcribed_text, _, _ = translator.predict(path_to_input_audio, \"asr\", \"eng\")"
   ]
  },
  {
   "cell_type": "markdown",
   "metadata": {
    "id": "bPW0Q3w3R3dK"
   },
   "source": [
    "и выведем ее на экран"
   ]
  },
  {
   "cell_type": "code",
   "execution_count": null,
   "metadata": {
    "colab": {
     "base_uri": "https://localhost:8080/"
    },
    "executionInfo": {
     "elapsed": 308,
     "status": "ok",
     "timestamp": 1692724223213,
     "user": {
      "displayName": "Vladimir Orlenko",
      "userId": "14647639487768811794"
     },
     "user_tz": -300
    },
    "id": "AKlxoIrZNWpg",
    "outputId": "c427cc36-05ef-433d-ca11-9ccc699de2ee"
   },
   "outputs": [
    {
     "name": "stdout",
     "output_type": "stream",
     "text": [
      "Hello this is Six Minutes English from BBC Learning English I'm Neil and I'm Beth. Have you ever had a horrible boss not been paid enough or simply got tired of doing the same old-fashioned job?\n"
     ]
    }
   ],
   "source": [
    "print(transcribed_text)"
   ]
  }
 ],
 "metadata": {
  "accelerator": "GPU",
  "colab": {
   "authorship_tag": "ABX9TyMQpMIkF/RsnbPLDuXESiXc",
   "gpuType": "T4",
   "provenance": [
    {
     "file_id": "19iyoCThRmObljZkZSsblcJpXbeQt2RFn",
     "timestamp": 1692725565223
    }
   ]
  },
  "kernelspec": {
   "display_name": "Python 3 (ipykernel)",
   "language": "python",
   "name": "python3"
  },
  "language_info": {
   "codemirror_mode": {
    "name": "ipython",
    "version": 3
   },
   "file_extension": ".py",
   "mimetype": "text/x-python",
   "name": "python",
   "nbconvert_exporter": "python",
   "pygments_lexer": "ipython3",
   "version": "3.9.15"
  }
 },
 "nbformat": 4,
 "nbformat_minor": 4
}
