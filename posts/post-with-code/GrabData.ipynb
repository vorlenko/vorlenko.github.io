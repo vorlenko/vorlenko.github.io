{
 "cells": [
  {
   "cell_type": "raw",
   "metadata": {},
   "source": [
    "---\n",
    "title: \"Grab Wiki data/Получение данных с Wiki\"\n",
    "author: \"Vladimir Orlenko\"\n",
    "date: \"2023-07-31\"\n",
    "categories: [code,]\n",
    "image: \"image/grabWikiData.jpg\"\n",
    "format: \n",
    "  html:\n",
    "    code-fold: true\n",
    "jupyter: python3\n",
    "---"
   ]
  },
  {
   "cell_type": "markdown",
   "metadata": {},
   "source": [
    "Для работы с текстом необходимо иметь некий массив текста достаточно большого размера. И таким источником является Wiki. Так что рассмотрим, как мы можем забрать эту информацию."
   ]
  },
  {
   "cell_type": "markdown",
   "metadata": {
    "id": "ikcJf-0dRAbO"
   },
   "source": [
    "# Presets"
   ]
  },
  {
   "cell_type": "markdown",
   "metadata": {
    "id": "6LTDOFMcV7_H"
   },
   "source": [
    "Для парсинга xml будем использовать [mwxml](https://pythonhosted.org/mwxml/)"
   ]
  },
  {
   "cell_type": "code",
   "execution_count": 5,
   "metadata": {
    "colab": {
     "base_uri": "https://localhost:8080/"
    },
    "executionInfo": {
     "elapsed": 7783,
     "status": "ok",
     "timestamp": 1683281344064,
     "user": {
      "displayName": "Vladimir Orlenko",
      "userId": "14647639487768811794"
     },
     "user_tz": -300
    },
    "id": "waUbRJoNwnIw",
    "outputId": "66dee0e3-acb5-4666-d164-dbe5a1627f5d"
   },
   "outputs": [
    {
     "name": "stdout",
     "output_type": "stream",
     "text": [
      "Looking in indexes: https://pypi.org/simple, https://us-python.pkg.dev/colab-wheels/public/simple/\n",
      "Collecting mwxml\n",
      "  Downloading mwxml-0.3.3-py2.py3-none-any.whl (32 kB)\n",
      "Requirement already satisfied: jsonschema>=2.5.1 in /usr/local/lib/python3.10/dist-packages (from mwxml) (4.3.3)\n",
      "Collecting mwcli>=0.0.2\n",
      "  Downloading mwcli-0.0.3-py2.py3-none-any.whl (8.4 kB)\n",
      "Collecting mwtypes>=0.3.0\n",
      "  Downloading mwtypes-0.3.2-py2.py3-none-any.whl (21 kB)\n",
      "Collecting para>=0.0.1\n",
      "  Downloading para-0.0.8-py3-none-any.whl (6.5 kB)\n",
      "Requirement already satisfied: attrs>=17.4.0 in /usr/local/lib/python3.10/dist-packages (from jsonschema>=2.5.1->mwxml) (23.1.0)\n",
      "Requirement already satisfied: pyrsistent!=0.17.0,!=0.17.1,!=0.17.2,>=0.14.0 in /usr/local/lib/python3.10/dist-packages (from jsonschema>=2.5.1->mwxml) (0.19.3)\n",
      "Collecting docopt\n",
      "  Downloading docopt-0.6.2.tar.gz (25 kB)\n",
      "  Preparing metadata (setup.py) ... \u001b[?25l\u001b[?25hdone\n",
      "Collecting jsonable>=0.3.0\n",
      "  Downloading jsonable-0.3.1-py2.py3-none-any.whl (11 kB)\n",
      "Building wheels for collected packages: docopt\n",
      "  Building wheel for docopt (setup.py) ... \u001b[?25l\u001b[?25hdone\n",
      "  Created wheel for docopt: filename=docopt-0.6.2-py2.py3-none-any.whl size=13721 sha256=8d1e1b91a4aa4e2dc654c13b8d0e48a4a2cc324abf7f74941928479217c14d28\n",
      "  Stored in directory: /root/.cache/pip/wheels/fc/ab/d4/5da2067ac95b36618c629a5f93f809425700506f72c9732fac\n",
      "Successfully built docopt\n",
      "Installing collected packages: para, jsonable, docopt, mwtypes, mwcli, mwxml\n",
      "Successfully installed docopt-0.6.2 jsonable-0.3.1 mwcli-0.0.3 mwtypes-0.3.2 mwxml-0.3.3 para-0.0.8\n"
     ]
    }
   ],
   "source": [
    "!pip install mwxml"
   ]
  },
  {
   "cell_type": "markdown",
   "metadata": {
    "id": "Kh0mEILRV4PV"
   },
   "source": [
    "Чтобы создать вики-представление текста, мы передаем текст статьи из Википедии в mwparserfromhell.\n",
    "\n",
    "Чтобы выяснить все, что вы можете сделать с mwparserfromhell, [прочитайте документацию](https://mwparserfromhell.readthedocs.io/en/latest/)."
   ]
  },
  {
   "cell_type": "code",
   "execution_count": 6,
   "metadata": {
    "colab": {
     "base_uri": "https://localhost:8080/"
    },
    "executionInfo": {
     "elapsed": 4843,
     "status": "ok",
     "timestamp": 1683281348901,
     "user": {
      "displayName": "Vladimir Orlenko",
      "userId": "14647639487768811794"
     },
     "user_tz": -300
    },
    "id": "_Qs3nE37V0on",
    "outputId": "a4b1c092-d075-4856-f342-ad6096668b61"
   },
   "outputs": [
    {
     "name": "stdout",
     "output_type": "stream",
     "text": [
      "Looking in indexes: https://pypi.org/simple, https://us-python.pkg.dev/colab-wheels/public/simple/\n",
      "Collecting mwparserfromhell\n",
      "  Downloading mwparserfromhell-0.6.4-cp310-cp310-manylinux_2_17_x86_64.manylinux2014_x86_64.whl (190 kB)\n",
      "\u001b[2K     \u001b[90m━━━━━━━━━━━━━━━━━━━━━━━━━━━━━━━━━━━━━━\u001b[0m \u001b[32m190.6/190.6 kB\u001b[0m \u001b[31m14.0 MB/s\u001b[0m eta \u001b[36m0:00:00\u001b[0m\n",
      "\u001b[?25hInstalling collected packages: mwparserfromhell\n",
      "Successfully installed mwparserfromhell-0.6.4\n"
     ]
    }
   ],
   "source": [
    "!pip install mwparserfromhell"
   ]
  },
  {
   "cell_type": "markdown",
   "metadata": {
    "id": "PgFjT53UxS7K"
   },
   "source": [
    "Монтируем диск Google\n",
    "\n",
    "![image.png](data:image/png;base64,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)"
   ]
  },
  {
   "cell_type": "markdown",
   "metadata": {
    "id": "tFnZX_F7Jqhg"
   },
   "source": [
    "# Form candidate list"
   ]
  },
  {
   "cell_type": "markdown",
   "metadata": {},
   "source": [
    "Загружать данные будем из дампов  Wiki"
   ]
  },
  {
   "cell_type": "code",
   "execution_count": 7,
   "metadata": {
    "executionInfo": {
     "elapsed": 1341,
     "status": "ok",
     "timestamp": 1683281352410,
     "user": {
      "displayName": "Vladimir Orlenko",
      "userId": "14647639487768811794"
     },
     "user_tz": -300
    },
    "id": "bjEx3n7jyObD"
   },
   "outputs": [],
   "source": [
    "import requests\n",
    "\n",
    "# Parsing HTML\n",
    "from bs4 import BeautifulSoup\n",
    "\n",
    "# File system management\n",
    "import os"
   ]
  },
  {
   "cell_type": "code",
   "execution_count": 8,
   "metadata": {
    "colab": {
     "base_uri": "https://localhost:8080/"
    },
    "executionInfo": {
     "elapsed": 337,
     "status": "ok",
     "timestamp": 1683281360099,
     "user": {
      "displayName": "Vladimir Orlenko",
      "userId": "14647639487768811794"
     },
     "user_tz": -300
    },
    "id": "JVSadlRFyl51",
    "outputId": "5bc90520-b1a0-4498-bbeb-f66eb870e700"
   },
   "outputs": [
    {
     "data": {
      "text/plain": [
       "['../',\n",
       " '20230120/',\n",
       " '20230201/',\n",
       " '20230220/',\n",
       " '20230301/',\n",
       " '20230320/',\n",
       " '20230401/',\n",
       " '20230420/',\n",
       " '20230501/',\n",
       " 'latest/']"
      ]
     },
     "execution_count": 8,
     "metadata": {},
     "output_type": "execute_result"
    }
   ],
   "source": [
    "base_url = 'https://dumps.wikimedia.org/ruwiki/'\n",
    "index = requests.get(base_url).text\n",
    "soup_index = BeautifulSoup(index, 'html.parser')\n",
    "\n",
    "# Find the links that are dates of dumps\n",
    "dumps = [a['href'] for a in soup_index.find_all('a') if \n",
    "         a.has_attr('href')]\n",
    "dumps"
   ]
  },
  {
   "cell_type": "markdown",
   "metadata": {},
   "source": [
    "Выберем самый свежий дамп"
   ]
  },
  {
   "cell_type": "code",
   "execution_count": 9,
   "metadata": {
    "colab": {
     "base_uri": "https://localhost:8080/",
     "height": 35
    },
    "executionInfo": {
     "elapsed": 768,
     "status": "ok",
     "timestamp": 1683281376373,
     "user": {
      "displayName": "Vladimir Orlenko",
      "userId": "14647639487768811794"
     },
     "user_tz": -300
    },
    "id": "p0fRP8xyyt-J",
    "outputId": "b8c9f810-ca78-4075-e161-5f2bef56038e"
   },
   "outputs": [
    {
     "data": {
      "application/vnd.google.colaboratory.intrinsic+json": {
       "type": "string"
      },
      "text/plain": [
       "'<html>\\r\\n<h'"
      ]
     },
     "execution_count": 9,
     "metadata": {},
     "output_type": "execute_result"
    }
   ],
   "source": [
    "# Get lastest dump\n",
    "dump_url = base_url + 'latest/'\n",
    "\n",
    "# Retrieve the html\n",
    "dump_html = requests.get(dump_url).text\n",
    "dump_html[:10]"
   ]
  },
  {
   "cell_type": "code",
   "execution_count": 10,
   "metadata": {
    "colab": {
     "base_uri": "https://localhost:8080/"
    },
    "executionInfo": {
     "elapsed": 4,
     "status": "ok",
     "timestamp": 1683281379278,
     "user": {
      "displayName": "Vladimir Orlenko",
      "userId": "14647639487768811794"
     },
     "user_tz": -300
    },
    "id": "wE9bKuUZzK16",
    "outputId": "7072c899-1237-41b9-b2cd-f27ed8fef7e2"
   },
   "outputs": [
    {
     "data": {
      "text/plain": [
       "[<a href=\"../\">../</a>,\n",
       " <a href=\"ruwiki-latest-abstract.xml.gz\">ruwiki-latest-abstract.xml.gz</a>,\n",
       " <a href=\"ruwiki-latest-abstract.xml.gz-rss.xml\">ruwiki-latest-abstract.xml.gz-rss.xml</a>,\n",
       " <a href=\"ruwiki-latest-abstract1.xml.gz\">ruwiki-latest-abstract1.xml.gz</a>]"
      ]
     },
     "execution_count": 10,
     "metadata": {},
     "output_type": "execute_result"
    }
   ],
   "source": [
    "# Convert to a soup\n",
    "soup_dump = BeautifulSoup(dump_html, 'html.parser')\n",
    "\n",
    "# Find li elements with the class file\n",
    "soup_dump.find_all('a', href=True, limit = 10)[:4]"
   ]
  },
  {
   "cell_type": "markdown",
   "metadata": {},
   "source": [
    "Получим список дампов"
   ]
  },
  {
   "cell_type": "code",
   "execution_count": 11,
   "metadata": {
    "colab": {
     "base_uri": "https://localhost:8080/"
    },
    "executionInfo": {
     "elapsed": 435,
     "status": "ok",
     "timestamp": 1683281382591,
     "user": {
      "displayName": "Vladimir Orlenko",
      "userId": "14647639487768811794"
     },
     "user_tz": -300
    },
    "id": "I40I0Ra7I4Yt",
    "outputId": "216cf650-dbe2-4dc0-be2a-9b193137322a"
   },
   "outputs": [
    {
     "name": "stdout",
     "output_type": "stream",
     "text": [
      "ruwiki-latest-pages-articles-multistream-index.txt.bz2\n",
      "ruwiki-latest-pages-articles-multistream-index.txt.bz2-rss.xml\n",
      "ruwiki-latest-pages-articles-multistream-index1.txt-p1p224167.bz2\n",
      "ruwiki-latest-pages-articles-multistream-index1.txt-p1p224167.bz2-rss.xml\n",
      "ruwiki-latest-pages-articles-multistream-index2.txt-p224168p1042043.bz2\n",
      "ruwiki-latest-pages-articles-multistream-index2.txt-p224168p1042043.bz2-rss.xml\n",
      "ruwiki-latest-pages-articles-multistream-index3.txt-p1042044p2198269.bz2\n",
      "ruwiki-latest-pages-articles-multistream-index3.txt-p1042044p2198269.bz2-rss.xml\n",
      "ruwiki-latest-pages-articles-multistream-index4.txt-p2198270p3698269.bz2\n",
      "ruwiki-latest-pages-articles-multistream-index4.txt-p2198270p3698269.bz2-rss.xml\n",
      "ruwiki-latest-pages-articles-multistream-index4.txt-p3698270p3835772.bz2\n",
      "ruwiki-latest-pages-articles-multistream-index4.txt-p3698270p3835772.bz2-rss.xml\n",
      "ruwiki-latest-pages-articles-multistream-index5.txt-p3835773p5335772.bz2\n",
      "ruwiki-latest-pages-articles-multistream-index5.txt-p3835773p5335772.bz2-rss.xml\n",
      "ruwiki-latest-pages-articles-multistream-index5.txt-p5335773p6585765.bz2\n",
      "ruwiki-latest-pages-articles-multistream-index5.txt-p5335773p6585765.bz2-rss.xml\n",
      "ruwiki-latest-pages-articles-multistream-index6.txt-p6585766p8085765.bz2\n",
      "ruwiki-latest-pages-articles-multistream-index6.txt-p6585766p8085765.bz2-rss.xml\n",
      "ruwiki-latest-pages-articles-multistream-index6.txt-p8085766p9585765.bz2\n",
      "ruwiki-latest-pages-articles-multistream-index6.txt-p8085766p9585765.bz2-rss.xml\n",
      "ruwiki-latest-pages-articles-multistream-index6.txt-p9585766p10177887.bz2\n",
      "ruwiki-latest-pages-articles-multistream-index6.txt-p9585766p10177887.bz2-rss.xml\n",
      "ruwiki-latest-pages-articles-multistream-index6.txt-p9585766p10192397.bz2\n",
      "ruwiki-latest-pages-articles-multistream-index6.txt-p9585766p10192397.bz2-rss.xml\n",
      "ruwiki-latest-pages-articles-multistream.xml.bz2\n",
      "ruwiki-latest-pages-articles-multistream.xml.bz2-rss.xml\n",
      "ruwiki-latest-pages-articles-multistream1.xml-p1p224167.bz2\n",
      "ruwiki-latest-pages-articles-multistream1.xml-p1p224167.bz2-rss.xml\n",
      "ruwiki-latest-pages-articles-multistream2.xml-p224168p1042043.bz2\n",
      "ruwiki-latest-pages-articles-multistream2.xml-p224168p1042043.bz2-rss.xml\n",
      "ruwiki-latest-pages-articles-multistream3.xml-p1042044p2198269.bz2\n",
      "ruwiki-latest-pages-articles-multistream3.xml-p1042044p2198269.bz2-rss.xml\n",
      "ruwiki-latest-pages-articles-multistream4.xml-p2198270p3698269.bz2\n",
      "ruwiki-latest-pages-articles-multistream4.xml-p2198270p3698269.bz2-rss.xml\n",
      "ruwiki-latest-pages-articles-multistream4.xml-p3698270p3835772.bz2\n",
      "ruwiki-latest-pages-articles-multistream4.xml-p3698270p3835772.bz2-rss.xml\n",
      "ruwiki-latest-pages-articles-multistream5.xml-p3835773p5335772.bz2\n",
      "ruwiki-latest-pages-articles-multistream5.xml-p3835773p5335772.bz2-rss.xml\n",
      "ruwiki-latest-pages-articles-multistream5.xml-p5335773p6585765.bz2\n",
      "ruwiki-latest-pages-articles-multistream5.xml-p5335773p6585765.bz2-rss.xml\n",
      "ruwiki-latest-pages-articles-multistream6.xml-p6585766p8085765.bz2\n",
      "ruwiki-latest-pages-articles-multistream6.xml-p6585766p8085765.bz2-rss.xml\n",
      "ruwiki-latest-pages-articles-multistream6.xml-p8085766p9585765.bz2\n",
      "ruwiki-latest-pages-articles-multistream6.xml-p8085766p9585765.bz2-rss.xml\n",
      "ruwiki-latest-pages-articles-multistream6.xml-p9585766p10177887.bz2\n",
      "ruwiki-latest-pages-articles-multistream6.xml-p9585766p10177887.bz2-rss.xml\n",
      "ruwiki-latest-pages-articles-multistream6.xml-p9585766p10192397.bz2\n",
      "ruwiki-latest-pages-articles-multistream6.xml-p9585766p10192397.bz2-rss.xml\n",
      "ruwiki-latest-pages-articles.xml.bz2\n",
      "ruwiki-latest-pages-articles.xml.bz2-rss.xml\n",
      "ruwiki-latest-pages-articles1.xml-p1p224167.bz2\n",
      "ruwiki-latest-pages-articles1.xml-p1p224167.bz2-rss.xml\n",
      "ruwiki-latest-pages-articles2.xml-p224168p1042043.bz2\n",
      "ruwiki-latest-pages-articles2.xml-p224168p1042043.bz2-rss.xml\n",
      "ruwiki-latest-pages-articles3.xml-p1042044p2198269.bz2\n",
      "ruwiki-latest-pages-articles3.xml-p1042044p2198269.bz2-rss.xml\n",
      "ruwiki-latest-pages-articles4.xml-p2198270p3698269.bz2\n",
      "ruwiki-latest-pages-articles4.xml-p2198270p3698269.bz2-rss.xml\n",
      "ruwiki-latest-pages-articles4.xml-p3698270p3835772.bz2\n",
      "ruwiki-latest-pages-articles4.xml-p3698270p3835772.bz2-rss.xml\n",
      "ruwiki-latest-pages-articles5.xml-p3835773p5335772.bz2\n",
      "ruwiki-latest-pages-articles5.xml-p3835773p5335772.bz2-rss.xml\n",
      "ruwiki-latest-pages-articles5.xml-p5335773p6585765.bz2\n",
      "ruwiki-latest-pages-articles5.xml-p5335773p6585765.bz2-rss.xml\n",
      "ruwiki-latest-pages-articles6.xml-p6585766p8085765.bz2\n",
      "ruwiki-latest-pages-articles6.xml-p6585766p8085765.bz2-rss.xml\n",
      "ruwiki-latest-pages-articles6.xml-p8085766p9585765.bz2\n",
      "ruwiki-latest-pages-articles6.xml-p8085766p9585765.bz2-rss.xml\n",
      "ruwiki-latest-pages-articles6.xml-p9585766p10177887.bz2\n",
      "ruwiki-latest-pages-articles6.xml-p9585766p10177887.bz2-rss.xml\n",
      "ruwiki-latest-pages-articles6.xml-p9585766p10192397.bz2\n",
      "ruwiki-latest-pages-articles6.xml-p9585766p10192397.bz2-rss.xml\n"
     ]
    }
   ],
   "source": [
    "# List of dumps\n",
    "for file in soup_dump.find_all('a', href=True):\n",
    "    text = file['href']\n",
    "    if 'pages-articles' in text:\n",
    "      print(text)"
   ]
  },
  {
   "cell_type": "code",
   "execution_count": 12,
   "metadata": {
    "colab": {
     "base_uri": "https://localhost:8080/"
    },
    "executionInfo": {
     "elapsed": 579,
     "status": "ok",
     "timestamp": 1683281387195,
     "user": {
      "displayName": "Vladimir Orlenko",
      "userId": "14647639487768811794"
     },
     "user_tz": -300
    },
    "id": "B_3_923uJJMk",
    "outputId": "bdb12973-313c-4f73-e675-f77cd44c1421"
   },
   "outputs": [
    {
     "data": {
      "text/plain": [
       "[('ruwiki-latest-pages-articles-multistream-index.txt.bz2', []),\n",
       " ('ruwiki-latest-pages-articles-multistream-index1.txt-p1p224167.bz2', []),\n",
       " ('ruwiki-latest-pages-articles-multistream-index2.txt-p224168p1042043.bz2',\n",
       "  []),\n",
       " ('ruwiki-latest-pages-articles-multistream-index3.txt-p1042044p2198269.bz2',\n",
       "  []),\n",
       " ('ruwiki-latest-pages-articles-multistream-index4.txt-p2198270p3698269.bz2',\n",
       "  [])]"
      ]
     },
     "execution_count": 12,
     "metadata": {},
     "output_type": "execute_result"
    }
   ],
   "source": [
    "# Filter files\n",
    "files = []\n",
    "\n",
    "# Search through all files\n",
    "for file in soup_dump.find_all('a', href=True):\n",
    "    text = file['href']\n",
    "    \n",
    "    # Select the relevant files\n",
    "    if 'pages-articles' in text and 'bz2-rss' not in text:\n",
    "        files.append((text.split()[0], text.split()[1:]))\n",
    "\n",
    "files[:5]"
   ]
  },
  {
   "cell_type": "markdown",
   "metadata": {},
   "source": [
    "Сформируем список файлов для загрузки"
   ]
  },
  {
   "cell_type": "code",
   "execution_count": 13,
   "metadata": {
    "colab": {
     "base_uri": "https://localhost:8080/"
    },
    "executionInfo": {
     "elapsed": 1242,
     "status": "ok",
     "timestamp": 1683281391011,
     "user": {
      "displayName": "Vladimir Orlenko",
      "userId": "14647639487768811794"
     },
     "user_tz": -300
    },
    "id": "Rf3uND9IJVJR",
    "outputId": "fe4b61d6-fc96-429b-af50-2c21e8a928fa"
   },
   "outputs": [
    {
     "data": {
      "text/plain": [
       "['ruwiki-latest-pages-articles5.xml-p5335773p6585765.bz2',\n",
       " 'ruwiki-latest-pages-articles6.xml-p6585766p8085765.bz2',\n",
       " 'ruwiki-latest-pages-articles6.xml-p8085766p9585765.bz2',\n",
       " 'ruwiki-latest-pages-articles6.xml-p9585766p10177887.bz2',\n",
       " 'ruwiki-latest-pages-articles6.xml-p9585766p10192397.bz2']"
      ]
     },
     "execution_count": 13,
     "metadata": {},
     "output_type": "execute_result"
    }
   ],
   "source": [
    "# Form list of files for download\n",
    "# Select multi-volume dump with articles\n",
    "files_to_download = [file[0] for file in files if '.xml-p' in file[0]]\n",
    "files_to_download[-5:]"
   ]
  },
  {
   "cell_type": "markdown",
   "metadata": {
    "id": "_deJ6dJNJwVv"
   },
   "source": [
    "# Download files of Wiki Data"
   ]
  },
  {
   "cell_type": "markdown",
   "metadata": {},
   "source": [
    "Для загрузки фалов воспользуемя `get_file` утилитой из библиотеки `keras`"
   ]
  },
  {
   "cell_type": "code",
   "execution_count": 14,
   "metadata": {
    "executionInfo": {
     "elapsed": 391,
     "status": "ok",
     "timestamp": 1683281398546,
     "user": {
      "displayName": "Vladimir Orlenko",
      "userId": "14647639487768811794"
     },
     "user_tz": -300
    },
    "id": "bxVQ8xClLNQG"
   },
   "outputs": [],
   "source": [
    "import sys\n",
    "from keras.utils import get_file"
   ]
  },
  {
   "cell_type": "markdown",
   "metadata": {
    "id": "_JfzWywcLSYK"
   },
   "source": [
    "### Parameters"
   ]
  },
  {
   "cell_type": "markdown",
   "metadata": {},
   "source": [
    "В переменной `keras_home` укажем, куда будут сохраняться файлы<br>\n",
    "в переменной `datasets` укажем папку для хранения датасетов<br>\n",
    "в переменной `archives` укажем папку для хранения архивов"
   ]
  },
  {
   "cell_type": "code",
   "execution_count": 15,
   "metadata": {
    "executionInfo": {
     "elapsed": 310,
     "status": "ok",
     "timestamp": 1683281402379,
     "user": {
      "displayName": "Vladimir Orlenko",
      "userId": "14647639487768811794"
     },
     "user_tz": -300
    },
    "id": "LUCWBqGELXqh"
   },
   "outputs": [],
   "source": [
    "#%%writefile parameters.py\n",
    "\n",
    "keras_home = '/content/drive/MyDrive/Data/Wiki/articles/'\n",
    "datasets = 'datasets/'\n",
    "archives = 'archive/'"
   ]
  },
  {
   "cell_type": "markdown",
   "metadata": {
    "id": "Xymo7F0bNZTY"
   },
   "source": [
    "%load parameters.py\n",
    "\n",
    "После выполнения этой команды в ячейке появится содержимое файла parameters.py. Чтобы исполнить этот код, нужно удалить символы комментария (#) перед нужными строками и нажать Shift+Enter.\n"
   ]
  },
  {
   "cell_type": "markdown",
   "metadata": {
    "id": "sy6Xl7ZvMOuI"
   },
   "source": [
    "---"
   ]
  },
  {
   "cell_type": "code",
   "execution_count": 73,
   "metadata": {
    "colab": {
     "base_uri": "https://localhost:8080/"
    },
    "executionInfo": {
     "elapsed": 17264,
     "status": "ok",
     "timestamp": 1683285871172,
     "user": {
      "displayName": "Vladimir Orlenko",
      "userId": "14647639487768811794"
     },
     "user_tz": -300
    },
    "id": "_JB32uZCLx7Q",
    "outputId": "71352914-b5bd-486d-948f-9825e5450857"
   },
   "outputs": [
    {
     "name": "stdout",
     "output_type": "stream",
     "text": [
      "Downloading\n",
      "Downloading data from https://dumps.wikimedia.org/ruwiki/latest/ruwiki-latest-pages-articles-multistream4.xml-p3698270p3835772.bz2\n",
      "68562895/68562895 [==============================] - 17s 0us/step\n"
     ]
    }
   ],
   "source": [
    "#%%writefile processfiles.py\n",
    "data_paths = []\n",
    "file_info = []\n",
    "\n",
    "# Iterate through each file\n",
    "for file in files_to_download:\n",
    "    path = keras_home +datasets+ file\n",
    "    \n",
    "    # Check to see if the path exists (if the file is already downloaded)\n",
    "    if not os.path.exists(path): #(keras_home + file):\n",
    "        print('Downloading')\n",
    "        # If not, download the file\n",
    "        data_paths.append(get_file(origin = dump_url+file, cache_dir= keras_home))\n",
    "        # Find the file size in MB\n",
    "        file_size = os.stat(path).st_size / 1e6\n",
    "        \n",
    "        # Find the number of articles\n",
    "        file_articles = int(file.split('p')[-1].split('.')[-2]) - int(file.split('p')[-2])\n",
    "        file_info.append((file, file_size, file_articles))\n",
    "        \n",
    "    # If the file is already downloaded find some information\n",
    "    else:\n",
    "        data_paths.append(path)\n",
    "        # Find the file size in MB\n",
    "        file_size = os.stat(path).st_size / 1e6\n",
    "        \n",
    "        # Find the number of articles\n",
    "        file_number = int(file.split('p')[-1].split('.')[-2]) - int(file.split('p')[-2])\n",
    "        file_info.append((file, file_size, file_number))"
   ]
  },
  {
   "cell_type": "markdown",
   "metadata": {
    "id": "W_dfKV5RMjz_"
   },
   "source": [
    "Какой самый большой файл? Мы можем использовать `sorted` для сортировки по размеру файла.Какой самый большой файл? Мы можем использовать `sorted` для сортировки по размеру файла."
   ]
  },
  {
   "cell_type": "code",
   "execution_count": 79,
   "metadata": {
    "colab": {
     "base_uri": "https://localhost:8080/"
    },
    "executionInfo": {
     "elapsed": 284,
     "status": "ok",
     "timestamp": 1683287296142,
     "user": {
      "displayName": "Vladimir Orlenko",
      "userId": "14647639487768811794"
     },
     "user_tz": -300
    },
    "id": "MTCv_QIhMnfn",
    "outputId": "af59cf72-9405-4421-b8f9-428c2abe9fd7"
   },
   "outputs": [
    {
     "data": {
      "text/plain": [
       "[('ruwiki-latest-pages-articles-multistream5.xml-p3835773p5335772.bz2',\n",
       "  788.431722,\n",
       "  1499999),\n",
       " ('ruwiki-latest-pages-articles-multistream4.xml-p2198270p3698269.bz2',\n",
       "  760.265323,\n",
       "  1499999),\n",
       " ('ruwiki-latest-pages-articles5.xml-p3835773p5335772.bz2',\n",
       "  756.775388,\n",
       "  1499999),\n",
       " ('ruwiki-latest-pages-articles4.xml-p2198270p3698269.bz2',\n",
       "  733.609441,\n",
       "  1499999),\n",
       " ('ruwiki-latest-pages-articles-multistream6.xml-p6585766p8085765.bz2',\n",
       "  727.746752,\n",
       "  1499999)]"
      ]
     },
     "execution_count": 79,
     "metadata": {},
     "output_type": "execute_result"
    }
   ],
   "source": [
    "sorted(file_info, key = lambda x: x[1], reverse = True)[:5]"
   ]
  },
  {
   "cell_type": "markdown",
   "metadata": {
    "id": "uLXIIe0lMrA0"
   },
   "source": [
    "Эти размеры указаны в МБ. Похоже, что самые большие файлы сжаты примерно на 700 МБ.Эти размеры указаны в МБ. Похоже, что самые большие файлы сжаты примерно на 700 МБ."
   ]
  },
  {
   "cell_type": "code",
   "execution_count": null,
   "metadata": {
    "id": "dqCN1k8RMsci"
   },
   "outputs": [],
   "source": [
    "sorted(file_info, key = lambda x: x[2], reverse = True)[:5]"
   ]
  },
  {
   "cell_type": "markdown",
   "metadata": {
    "id": "t7nUDBOnMyqb"
   },
   "source": [
    "Опять же, я не знаю, что означают числа после p, но самая распространенная разница между первым и вторым — 1_500_000."
   ]
  },
  {
   "cell_type": "code",
   "execution_count": 19,
   "metadata": {
    "colab": {
     "base_uri": "https://localhost:8080/"
    },
    "executionInfo": {
     "elapsed": 509,
     "status": "ok",
     "timestamp": 1683281422813,
     "user": {
      "displayName": "Vladimir Orlenko",
      "userId": "14647639487768811794"
     },
     "user_tz": -300
    },
    "id": "CsN10uQ_M1sc",
    "outputId": "6c7b6006-f98c-4818-ad15-76200d12ab6a"
   },
   "outputs": [
    {
     "name": "stdout",
     "output_type": "stream",
     "text": [
      "There are 22 partitions.\n"
     ]
    }
   ],
   "source": [
    "print(f'There are {len(file_info)} partitions.')"
   ]
  },
  {
   "cell_type": "code",
   "execution_count": 78,
   "metadata": {
    "colab": {
     "base_uri": "https://localhost:8080/",
     "height": 1000
    },
    "executionInfo": {
     "elapsed": 741,
     "status": "ok",
     "timestamp": 1683286130037,
     "user": {
      "displayName": "Vladimir Orlenko",
      "userId": "14647639487768811794"
     },
     "user_tz": -300
    },
    "id": "ioW73sfeM8Li",
    "outputId": "8963b83b-efd1-410c-a95d-c37ff7c1bb6f"
   },
   "outputs": [
    {
     "data": {
      "image/png": "[encoded data removed]",
      "text/plain": [
       "<Figure size 1200x600 with 1 Axes>"
      ]
     },
     "metadata": {},
     "output_type": "display_data"
    }
   ],
   "source": [
    "# Draw figure\n",
    "import pandas as pd\n",
    "import matplotlib.pyplot as plt\n",
    "%matplotlib inline\n",
    "file_df = pd.DataFrame(file_info, columns = ['file', 'size (MB)', 'articles']).set_index('file')\n",
    "file_df['size (MB)'].plot.bar(color = 'red', figsize = (12, 6));"
   ]
  },
  {
   "cell_type": "markdown",
   "metadata": {
    "id": "NFXIvMWKRyMh"
   },
   "source": [
    "---"
   ]
  },
  {
   "cell_type": "markdown",
   "metadata": {
    "id": "9SSMyWJnR2sM"
   },
   "source": [
    "# Parse file"
   ]
  },
  {
   "cell_type": "code",
   "execution_count": 22,
   "metadata": {
    "colab": {
     "base_uri": "https://localhost:8080/",
     "height": 53
    },
    "executionInfo": {
     "elapsed": 395,
     "status": "ok",
     "timestamp": 1683281436298,
     "user": {
      "displayName": "Vladimir Orlenko",
      "userId": "14647639487768811794"
     },
     "user_tz": -300
    },
    "id": "SGQHodFwSYXZ",
    "outputId": "552de5ec-8f1c-4c53-811d-bb0f23218508"
   },
   "outputs": [
    {
     "data": {
      "application/vnd.google.colaboratory.intrinsic+json": {
       "type": "string"
      },
      "text/plain": [
       "'/content/drive/MyDrive/Data/Wiki/articles/datasets/ruwiki-latest-pages-articles-multistream4.xml-p3698270p3835772.bz2'"
      ]
     },
     "execution_count": 22,
     "metadata": {},
     "output_type": "execute_result"
    }
   ],
   "source": [
    "# Take shorttest dump\n",
    "data_path = data_paths[4]\n",
    "# File with that will work\n",
    "data_path"
   ]
  },
  {
   "cell_type": "markdown",
   "metadata": {
    "id": "lBkA-9GqU_qk"
   },
   "source": [
    "## Parsing XML"
   ]
  },
  {
   "cell_type": "code",
   "execution_count": 23,
   "metadata": {
    "executionInfo": {
     "elapsed": 329,
     "status": "ok",
     "timestamp": 1683281440620,
     "user": {
      "displayName": "Vladimir Orlenko",
      "userId": "14647639487768811794"
     },
     "user_tz": -300
    },
    "id": "S2JAMWJVVILP"
   },
   "outputs": [],
   "source": [
    "import xml.sax\n",
    "\n",
    "class WikiXmlHandler(xml.sax.handler.ContentHandler):\n",
    "    \"\"\"Content handler for Wiki XML data using SAX\"\"\"\n",
    "    def __init__(self):\n",
    "        xml.sax.handler.ContentHandler.__init__(self)\n",
    "        self._buffer = None\n",
    "        self._values = {}\n",
    "        self._current_tag = None\n",
    "        self._pages = []\n",
    "\n",
    "    def characters(self, content):\n",
    "        \"\"\"Characters between opening and closing tags\"\"\"\n",
    "        if self._current_tag:\n",
    "            self._buffer.append(content)\n",
    "\n",
    "    def startElement(self, name, attrs):\n",
    "        \"\"\"Opening tag of element\"\"\"\n",
    "        if name in ('title', 'text', 'timestamp'):\n",
    "            self._current_tag = name\n",
    "            self._buffer = []\n",
    "            #print(f'open tag {name} \\n')\n",
    "\n",
    "    def endElement(self, name):\n",
    "        \"\"\"Closing tag of element\"\"\"\n",
    "        if name == self._current_tag:\n",
    "            self._values[name] = ' '.join(self._buffer)\n",
    "\n",
    "        if name == 'page':\n",
    "            self._pages.append((self._values['title'], self._values['text']))\n",
    "        #print(f'close tag {name} \\n')"
   ]
  },
  {
   "cell_type": "markdown",
   "metadata": {
    "id": "vvOnsnYGVP1G"
   },
   "source": [
    "## Parsing Articles"
   ]
  },
  {
   "cell_type": "code",
   "execution_count": 21,
   "metadata": {
    "executionInfo": {
     "elapsed": 526,
     "status": "ok",
     "timestamp": 1683281433804,
     "user": {
      "displayName": "Vladimir Orlenko",
      "userId": "14647639487768811794"
     },
     "user_tz": -300
    },
    "id": "GQ0u6lzITJEt"
   },
   "outputs": [],
   "source": [
    "import subprocess"
   ]
  },
  {
   "cell_type": "code",
   "execution_count": 40,
   "metadata": {
    "executionInfo": {
     "elapsed": 20324,
     "status": "ok",
     "timestamp": 1683281781954,
     "user": {
      "displayName": "Vladimir Orlenko",
      "userId": "14647639487768811794"
     },
     "user_tz": -300
    },
    "id": "3w8kxxZpVWXT"
   },
   "outputs": [],
   "source": [
    "# Object for handling xml\n",
    "handler = WikiXmlHandler()\n",
    "\n",
    "# Parsing object\n",
    "parser = xml.sax.make_parser()\n",
    "parser.setContentHandler(handler)\n",
    "\n",
    "for i, line in enumerate(subprocess.Popen(['bzcat'], \n",
    "                         stdin = open(data_path), \n",
    "                         stdout = subprocess.PIPE).stdout):\n",
    "    parser.feed(line)\n",
    "    \n",
    "    # Stop when 50 articles have been found\n",
    "#    if len(handler._pages) > 50:\n",
    "#        break"
   ]
  },
  {
   "cell_type": "code",
   "execution_count": 48,
   "metadata": {
    "executionInfo": {
     "elapsed": 634,
     "status": "ok",
     "timestamp": 1683282409789,
     "user": {
      "displayName": "Vladimir Orlenko",
      "userId": "14647639487768811794"
     },
     "user_tz": -300
    },
    "id": "n_uQ-3cmbwaG"
   },
   "outputs": [],
   "source": [
    "def parseArticles(data_path):\n",
    "  # Object for handling xml\n",
    "  handler = WikiXmlHandler()\n",
    "\n",
    "  # Parsing object\n",
    "  parser = xml.sax.make_parser()\n",
    "  parser.setContentHandler(handler)\n",
    "\n",
    "  for i, line in enumerate(subprocess.Popen(['bzcat'], \n",
    "                         stdin = open(data_path), \n",
    "                         stdout = subprocess.PIPE).stdout):\n",
    "    parser.feed(line)\n",
    "  \n",
    "  return handler"
   ]
  },
  {
   "cell_type": "code",
   "execution_count": 30,
   "metadata": {
    "executionInfo": {
     "elapsed": 429,
     "status": "ok",
     "timestamp": 1683281520882,
     "user": {
      "displayName": "Vladimir Orlenko",
      "userId": "14647639487768811794"
     },
     "user_tz": -300
    },
    "id": "-9DfT6YXZZlC"
   },
   "outputs": [],
   "source": [
    "import mwparserfromhell "
   ]
  },
  {
   "cell_type": "code",
   "execution_count": 31,
   "metadata": {
    "executionInfo": {
     "elapsed": 2,
     "status": "ok",
     "timestamp": 1683281523175,
     "user": {
      "displayName": "Vladimir Orlenko",
      "userId": "14647639487768811794"
     },
     "user_tz": -300
    },
    "id": "uIKZxFakVqZl"
   },
   "outputs": [],
   "source": [
    "def process_article(title, text, timestamp):\n",
    "    \"\"\"Process a wikipedia article\"\"\"\n",
    "    # Create a parsing object\n",
    "    wikicode = mwparserfromhell.parse(text)\n",
    "    return (title, wikicode.strip_code().strip(), timestamp)"
   ]
  },
  {
   "cell_type": "markdown",
   "metadata": {
    "id": "xoDH-fEOWzD0"
   },
   "source": [
    "## Process Bulk Pages"
   ]
  },
  {
   "cell_type": "markdown",
   "metadata": {},
   "source": [
    "Будем сохранять распарсеные файлы в один большой архив, с которым проще иметь дело, чем с кучей мелких файлов"
   ]
  },
  {
   "cell_type": "code",
   "execution_count": 26,
   "metadata": {
    "executionInfo": {
     "elapsed": 484,
     "status": "ok",
     "timestamp": 1683281456920,
     "user": {
      "displayName": "Vladimir Orlenko",
      "userId": "14647639487768811794"
     },
     "user_tz": -300
    },
    "id": "cjaVSHBeW1FC"
   },
   "outputs": [],
   "source": [
    "import zipfile"
   ]
  },
  {
   "cell_type": "code",
   "execution_count": 27,
   "metadata": {
    "executionInfo": {
     "elapsed": 318,
     "status": "ok",
     "timestamp": 1683281459519,
     "user": {
      "displayName": "Vladimir Orlenko",
      "userId": "14647639487768811794"
     },
     "user_tz": -300
    },
    "id": "INHaEwk1W7c4"
   },
   "outputs": [],
   "source": [
    "stopTitle=('Файл:','Категория:','Википедия:','MediaWiki:','Шаблон:','Портал:','Проект:')\n",
    "stopText=('перенаправление','REDIRECT','redirect','Redirect')"
   ]
  },
  {
   "cell_type": "markdown",
   "metadata": {
    "id": "XqexZY8Si_ud"
   },
   "source": [
    "не предпочтительный способ выгрузки"
   ]
  },
  {
   "cell_type": "code",
   "execution_count": 28,
   "metadata": {
    "executionInfo": {
     "elapsed": 291,
     "status": "ok",
     "timestamp": 1683281461468,
     "user": {
      "displayName": "Vladimir Orlenko",
      "userId": "14647639487768811794"
     },
     "user_tz": -300
    },
    "id": "Gf5Fd1l1XB2f"
   },
   "outputs": [],
   "source": [
    "def pocessBundleZip(pages, archive_name = 'archive.zip'):\n",
    "  \"\"\"Save exctacted wikipedia article in zip file\"\"\"\n",
    "  with zipfile.ZipFile(archive_name, mode=\"a\") as archive:\n",
    "    for page_no,page in enumerate(pages):\n",
    "      title, wikitext,_ = process_article(pages[page_no][0],pages[page_no][1],None)\n",
    "      if not title.startswith(stopTitle):\n",
    "        if not wikitext.startswith(stopText):\n",
    "          fname = title.replace(', ',' ').replace('/','-')+'.txt'\n",
    "          text = wikitext.replace('< ref >  < /ref >','').replace('< ref >','(').replace('< /ref >',')').replace('  .','.').replace('  ,',',').replace(' .','.')\n",
    "          with archive.open(fname, \"w\") as new_file:\n",
    "            new_file.write(bytes(text,'utf-8'))"
   ]
  },
  {
   "cell_type": "markdown",
   "metadata": {
    "id": "1PkJtI04jC1Y"
   },
   "source": [
    "предпочтительный способ выгрузки"
   ]
  },
  {
   "cell_type": "code",
   "execution_count": 55,
   "metadata": {
    "executionInfo": {
     "elapsed": 981,
     "status": "ok",
     "timestamp": 1683283342322,
     "user": {
      "displayName": "Vladimir Orlenko",
      "userId": "14647639487768811794"
     },
     "user_tz": -300
    },
    "id": "cKJ4lZtFeW21"
   },
   "outputs": [],
   "source": [
    "def pocessBundleBZ2(pages, archive_name = 'archive.bz2'):\n",
    "  \"\"\"Save exctacted wikipedia article in bzip file\"\"\"\n",
    "  with zipfile.ZipFile(archive_name, mode=\"a\", compression=zipfile.ZIP_BZIP2) as archive:\n",
    "    for page_no,page in enumerate(pages):\n",
    "      title, wikitext,_ = process_article(pages[page_no][0],pages[page_no][1],None)\n",
    "      if not title.startswith(stopTitle):\n",
    "        if not wikitext.startswith(stopText):\n",
    "          fname = title.replace(', ',' ').replace('/','-')+'.txt'\n",
    "          text = wikitext.replace('< ref >  < /ref >','').replace('< ref >','(').replace('< /ref >',')').replace('  .','.').replace('  ,',',').replace(' .','.')\n",
    "          with archive.open(fname, \"w\") as new_file:\n",
    "            new_file.write(bytes(text,'utf-8'))"
   ]
  },
  {
   "cell_type": "code",
   "execution_count": 56,
   "metadata": {
    "executionInfo": {
     "elapsed": 295168,
     "status": "ok",
     "timestamp": 1683283640778,
     "user": {
      "displayName": "Vladimir Orlenko",
      "userId": "14647639487768811794"
     },
     "user_tz": -300
    },
    "id": "zYpvGrVEfxoA"
   },
   "outputs": [],
   "source": [
    "# Process Articles\n",
    "handler = parseArticles(data_path)\n",
    "# Get dump name\n",
    "filename = os.path.splitext(os.path.basename(data_path))[0]\n",
    "# Set Archive name\n",
    "archName = keras_home + archives + filename + '.bz2'\n",
    "# Save processed articles in archive\n",
    "pocessBundleBZ2(handler._pages, archName)"
   ]
  },
  {
   "cell_type": "code",
   "execution_count": null,
   "metadata": {
    "id": "U8rlROs2hGNJ"
   },
   "outputs": [],
   "source": [
    "# Check created file\n",
    "with zipfile.ZipFile(archName, mode=\"r\",compression=zipfile.ZIP_BZIP2) as archive:\n",
    "  #archive.printdir()\n",
    "  print(\"------\")\n",
    "  text = archive.read(\"Джимасар.txt\").decode(encoding=\"utf-8\")\n",
    "\n",
    "print(text)"
   ]
  },
  {
   "cell_type": "code",
   "execution_count": null,
   "metadata": {
    "id": "6Cm8Ghfp1Nr2"
   },
   "outputs": [],
   "source": [
    "for page_no,page in enumerate(pages):\n",
    "      title, wikitext,_ = process_article(pages[page_no][0],pages[page_no][1],None)\n",
    "      print(f'')"
   ]
  }
 ],
 "metadata": {
  "colab": {
   "authorship_tag": "ABX9TyNiRvqeEaK0QDp3TTtZVUvY",
   "mount_file_id": "1s0c6cWWmIIXnkyZyGX2IBdEcpRiCFNDh",
   "provenance": [],
   "toc_visible": true
  },
  "kernelspec": {
   "display_name": "Python 3 (ipykernel)",
   "language": "python",
   "name": "python3"
  },
  "language_info": {
   "codemirror_mode": {
    "name": "ipython",
    "version": 3
   },
   "file_extension": ".py",
   "mimetype": "text/x-python",
   "name": "python",
   "nbconvert_exporter": "python",
   "pygments_lexer": "ipython3",
   "version": "3.9.15"
  }
 },
 "nbformat": 4,
 "nbformat_minor": 4
}
